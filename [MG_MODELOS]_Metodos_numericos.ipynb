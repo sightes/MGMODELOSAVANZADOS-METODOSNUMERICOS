{
  "nbformat": 4,
  "nbformat_minor": 0,
  "metadata": {
    "colab": {
      "provenance": [],
      "authorship_tag": "ABX9TyMR7I7Eym5ZLMUBoS77kW4H",
      "include_colab_link": true
    },
    "kernelspec": {
      "name": "ir",
      "display_name": "R"
    },
    "language_info": {
      "name": "R"
    }
  },
  "cells": [
    {
      "cell_type": "markdown",
      "metadata": {
        "id": "view-in-github",
        "colab_type": "text"
      },
      "source": [
        "<a href=\"https://colab.research.google.com/github/sightes/MGMODELOSAVANZADOS-METODOSNUMERICOS/blob/main/%5BMG_MODELOS%5D_Metodos_numericos.ipynb\" target=\"_parent\"><img src=\"https://colab.research.google.com/assets/colab-badge.svg\" alt=\"Open In Colab\"/></a>"
      ]
    },
    {
      "cell_type": "markdown",
      "source": [
        "#### Ejemplo creacion matrices"
      ],
      "metadata": {
        "id": "JRj4GhWQtrvY"
      }
    },
    {
      "cell_type": "code",
      "execution_count": 4,
      "metadata": {
        "colab": {
          "base_uri": "https://localhost:8080/"
        },
        "id": "pa3faMZYKUn3",
        "outputId": "6814be1a-9fd3-47d5-fbc0-571a0c0c5dc0"
      },
      "outputs": [
        {
          "output_type": "stream",
          "name": "stdout",
          "text": [
            "     [,1] [,2] [,3]\n",
            "[1,]    1    2    3\n",
            "[2,]    4    5    6\n"
          ]
        }
      ],
      "source": [
        "M<-matrix(c(1,2,3,4,5,6),nrow=2,ncol=3,byrow=TRUE)\n",
        "print(M)"
      ]
    },
    {
      "cell_type": "code",
      "source": [
        "#Accedemos a la matriz elemento 1,2\n",
        "M[1,2]"
      ],
      "metadata": {
        "colab": {
          "base_uri": "https://localhost:8080/",
          "height": 34
        },
        "id": "hNMI2rJvtaCT",
        "outputId": "49c64279-d5b6-40cf-afd6-e73f8f2802f4"
      },
      "execution_count": 5,
      "outputs": [
        {
          "output_type": "display_data",
          "data": {
            "text/html": [
              "2"
            ],
            "text/markdown": "2",
            "text/latex": "2",
            "text/plain": [
              "[1] 2"
            ]
          },
          "metadata": {}
        }
      ]
    },
    {
      "cell_type": "code",
      "source": [
        "trunc(M)"
      ],
      "metadata": {
        "colab": {
          "base_uri": "https://localhost:8080/",
          "height": 130
        },
        "id": "wWDxUO30t69q",
        "outputId": "5bb4a5c9-23cc-4f31-d79b-e4f5d366a7b2"
      },
      "execution_count": 6,
      "outputs": [
        {
          "output_type": "display_data",
          "data": {
            "text/html": [
              "<table class=\"dataframe\">\n",
              "<caption>A matrix: 2 × 3 of type dbl</caption>\n",
              "<tbody>\n",
              "\t<tr><td>1</td><td>2</td><td>3</td></tr>\n",
              "\t<tr><td>4</td><td>5</td><td>6</td></tr>\n",
              "</tbody>\n",
              "</table>\n"
            ],
            "text/markdown": "\nA matrix: 2 × 3 of type dbl\n\n| 1 | 2 | 3 |\n| 4 | 5 | 6 |\n\n",
            "text/latex": "A matrix: 2 × 3 of type dbl\n\\begin{tabular}{lll}\n\t 1 & 2 & 3\\\\\n\t 4 & 5 & 6\\\\\n\\end{tabular}\n",
            "text/plain": [
              "     [,1] [,2] [,3]\n",
              "[1,] 1    2    3   \n",
              "[2,] 4    5    6   "
            ]
          },
          "metadata": {}
        }
      ]
    },
    {
      "cell_type": "markdown",
      "source": [
        "###Matriz identidad\n"
      ],
      "metadata": {
        "id": "eHzRNrvhwBWA"
      }
    },
    {
      "cell_type": "code",
      "source": [
        "N<-matrix(0,3,3)\n",
        "N[row(N)==col(N)]<-1\n",
        "print(N)"
      ],
      "metadata": {
        "colab": {
          "base_uri": "https://localhost:8080/"
        },
        "id": "uAblDkPQwE60",
        "outputId": "cc928257-d72b-429a-d003-da55c18950ee"
      },
      "execution_count": 8,
      "outputs": [
        {
          "output_type": "stream",
          "name": "stdout",
          "text": [
            "     [,1] [,2] [,3]\n",
            "[1,]    1    0    0\n",
            "[2,]    0    1    0\n",
            "[3,]    0    0    1\n"
          ]
        }
      ]
    },
    {
      "cell_type": "code",
      "source": [
        "is.matrix(N)"
      ],
      "metadata": {
        "colab": {
          "base_uri": "https://localhost:8080/",
          "height": 34
        },
        "id": "7F6RbKxLw9-L",
        "outputId": "d4e8761f-2411-4c03-fe20-9db00bee4378"
      },
      "execution_count": 9,
      "outputs": [
        {
          "output_type": "display_data",
          "data": {
            "text/html": [
              "TRUE"
            ],
            "text/markdown": "TRUE",
            "text/latex": "TRUE",
            "text/plain": [
              "[1] TRUE"
            ]
          },
          "metadata": {}
        }
      ]
    },
    {
      "cell_type": "code",
      "source": [
        "## que pasa que quisiese que la diagonal superior sea uno\n",
        "\n",
        "N<-matrix(0,3,3)\n",
        "N[row(N)<=col(N)]<-1\n",
        "print(N)"
      ],
      "metadata": {
        "colab": {
          "base_uri": "https://localhost:8080/"
        },
        "id": "UFcf3EJsxdNO",
        "outputId": "affddda8-10a6-4550-d4ea-b8bc2a73b1ed"
      },
      "execution_count": 11,
      "outputs": [
        {
          "output_type": "stream",
          "name": "stdout",
          "text": [
            "     [,1] [,2] [,3]\n",
            "[1,]    1    1    1\n",
            "[2,]    0    1    1\n",
            "[3,]    0    0    1\n"
          ]
        }
      ]
    },
    {
      "cell_type": "code",
      "source": [
        "## que pasa que quisiese que la diagonal superior sea uno\n",
        "\n",
        "N<-matrix(0,3,3)\n",
        "N[row(N)>=col(N)]<-1\n",
        "print(N)"
      ],
      "metadata": {
        "colab": {
          "base_uri": "https://localhost:8080/"
        },
        "id": "T9k5j56nxyAa",
        "outputId": "d572d1bf-c835-46a4-8564-2be9d1cb124c"
      },
      "execution_count": 12,
      "outputs": [
        {
          "output_type": "stream",
          "name": "stdout",
          "text": [
            "     [,1] [,2] [,3]\n",
            "[1,]    1    0    0\n",
            "[2,]    1    1    0\n",
            "[3,]    1    1    1\n"
          ]
        }
      ]
    },
    {
      "cell_type": "markdown",
      "source": [
        "###Suma de matrices"
      ],
      "metadata": {
        "id": "5mCU120myXpl"
      }
    },
    {
      "cell_type": "code",
      "source": [
        "M<-matrix(1:6,byrow=TRUE,nrow=3,ncol=2)\n",
        "N<-matrix(7:12,nrow=3,ncol=2)\n",
        "print(M)\n",
        "print(N)"
      ],
      "metadata": {
        "colab": {
          "base_uri": "https://localhost:8080/"
        },
        "id": "OpzRNFw_x4LM",
        "outputId": "a54b93f5-f1e7-4865-e25a-2673636e52c9"
      },
      "execution_count": 13,
      "outputs": [
        {
          "output_type": "stream",
          "name": "stdout",
          "text": [
            "     [,1] [,2]\n",
            "[1,]    1    2\n",
            "[2,]    3    4\n",
            "[3,]    5    6\n",
            "     [,1] [,2]\n",
            "[1,]    7   10\n",
            "[2,]    8   11\n",
            "[3,]    9   12\n"
          ]
        }
      ]
    },
    {
      "cell_type": "code",
      "source": [
        "MS<-M+N\n",
        "print(MS)"
      ],
      "metadata": {
        "colab": {
          "base_uri": "https://localhost:8080/"
        },
        "id": "HdIUb-5SyOfX",
        "outputId": "dbaa1359-f840-4297-dd35-d333caa82fed"
      },
      "execution_count": 14,
      "outputs": [
        {
          "output_type": "stream",
          "name": "stdout",
          "text": [
            "     [,1] [,2]\n",
            "[1,]    8   12\n",
            "[2,]   11   15\n",
            "[3,]   14   18\n"
          ]
        }
      ]
    },
    {
      "cell_type": "code",
      "source": [
        "MS<-M-N\n",
        "print(MS)"
      ],
      "metadata": {
        "colab": {
          "base_uri": "https://localhost:8080/"
        },
        "id": "9_KPCDOKyTof",
        "outputId": "5c4bd1eb-5721-4df6-a594-d6115935f320"
      },
      "execution_count": 15,
      "outputs": [
        {
          "output_type": "stream",
          "name": "stdout",
          "text": [
            "     [,1] [,2]\n",
            "[1,]   -6   -8\n",
            "[2,]   -5   -7\n",
            "[3,]   -4   -6\n"
          ]
        }
      ]
    },
    {
      "cell_type": "markdown",
      "source": [
        "###Multiplicacion de matrices"
      ],
      "metadata": {
        "id": "P1CbhRj3y7bu"
      }
    },
    {
      "cell_type": "code",
      "source": [
        "# multiplicacion entre matrices\n",
        "M<-matrix(1:6,byrow=TRUE,nrow=3,ncol=2)\n",
        "N<-matrix(7:10,nrow=2,ncol=2)\n",
        "MU<- M%*%N\n",
        "print(MU)"
      ],
      "metadata": {
        "colab": {
          "base_uri": "https://localhost:8080/"
        },
        "id": "BvgrEaKcy_Fa",
        "outputId": "ae66e6be-0d33-4161-bbe1-8ad4ed1e5cf9"
      },
      "execution_count": 18,
      "outputs": [
        {
          "output_type": "stream",
          "name": "stdout",
          "text": [
            "     [,1] [,2]\n",
            "[1,]   23   29\n",
            "[2,]   53   67\n",
            "[3,]   83  105\n"
          ]
        }
      ]
    },
    {
      "cell_type": "code",
      "source": [
        "# Multiplicacion escalar\n",
        "ME<- 2*M\n",
        "print(ME)"
      ],
      "metadata": {
        "colab": {
          "base_uri": "https://localhost:8080/"
        },
        "id": "el4cbzN_zZ01",
        "outputId": "9b919954-47a5-4261-cced-e8676fcc7e4e"
      },
      "execution_count": 19,
      "outputs": [
        {
          "output_type": "stream",
          "name": "stdout",
          "text": [
            "     [,1] [,2]\n",
            "[1,]    2    4\n",
            "[2,]    6    8\n",
            "[3,]   10   12\n"
          ]
        }
      ]
    }
  ]
}